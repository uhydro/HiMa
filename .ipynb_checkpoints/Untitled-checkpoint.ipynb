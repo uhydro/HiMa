{
 "cells": [
  {
   "cell_type": "code",
   "execution_count": null,
   "id": "2826e48f-f371-4534-b2c2-ac7f7633b2dd",
   "metadata": {},
   "outputs": [],
   "source": []
  }
 ],
 "metadata": {
  "kernelspec": {
   "display_name": "",
   "name": ""
  },
  "language_info": {
   "name": ""
  }
 },
 "nbformat": 4,
 "nbformat_minor": 5
}
