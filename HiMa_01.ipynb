{
 "cells": [
  {
   "cell_type": "markdown",
   "id": "ba6b496e-6739-4861-bd0f-9702509c722f",
   "metadata": {},
   "source": [
    "# Higher Mathematics"
   ]
  },
  {
   "cell_type": "markdown",
   "id": "7d1c436b-5086-4b91-97fe-0dc686cfc274",
   "metadata": {},
   "source": [
    "## Introduction"
   ]
  },
  {
   "cell_type": "markdown",
   "id": "830d5947-4c00-471c-82ee-515012fbb75d",
   "metadata": {},
   "source": [
    "What is really important in terms of higher mathematics for water engineers? Which mathematical techniques are needed and really necessary?"
   ]
  },
  {
   "cell_type": "markdown",
   "id": "b256545e-aee4-4b71-b902-738c15979607",
   "metadata": {},
   "source": [
    "First, we often need statistics, especially also extreme value statistics for flood probabilities. But also test methods (hypothesis tests), and parametric statistics for e.g. the analysis of lifespans of buildings, roads or for error analysis.\n",
    "- descriptive statistics\n",
    "- parametric statistics\n",
    "- extreme values\n",
    "- distributions\n",
    "- hypothesis testing\n",
    "- trend analysis\n",
    "- errors and LOSS functions\n",
    "- Maximum-Likelyhood\n",
    "- Bayesian statistics"
   ]
  },
  {
   "cell_type": "markdown",
   "id": "6243fa5d-b659-4c5c-b23c-0f9e39417d24",
   "metadata": {},
   "source": [
    "Second, we often deal with differential equations. Ordinary differential equations are used for describing storages, compartments and reservoirs. Their solution helps us to describe springs, lakes, rivers and their response to rainfall and recharge. Partial differential equations are used to describe the flow of groundwater, soil water, river hydraulics. Methods for solving these equations are therefore helpful.\n",
    "- ordinary differential equations\n",
    "- partial differential equations\n",
    "- solution approaches: analytical solutions\n",
    "- numerical solutions\n",
    "- Euler and Runge-Kutta method"
   ]
  },
  {
   "cell_type": "markdown",
   "id": "c981cb23-8391-4751-97ce-9446d41ba081",
   "metadata": {},
   "source": [
    "Third, we often need matrix calculations and linear algebra to solve systems of equations, to optimize models. Linear algebra also offers many possibilities to solve problems for hydrological systems. We therefore need to introduce basic tools for solving systems of linear and quadratic equations. \n",
    "\n",
    "- solving systems of linear equations (gauss elimination)\n",
    "- simplex method\n",
    "- quadratic programming"
   ]
  },
  {
   "cell_type": "markdown",
   "id": "7db9e826-fe3d-417b-8a3e-aed43bba05ed",
   "metadata": {},
   "source": [
    "Fourth, we need some analytical tools for hydrological modeling. Newton-Raphson method for optimization, Taylor series development, integration methods and derivatives are needed in process hydrology.\n",
    "- Newton-Raphson method\n",
    "- Taylor series (infiltration)\n",
    "- integration methods\n",
    "- derivatives of LOSS functions"
   ]
  },
  {
   "cell_type": "markdown",
   "id": "78b6a78b-bf1e-4a91-91a0-aae527e24420",
   "metadata": {},
   "source": [
    "In hydrology we often deal with multivariate systems. We need some multi-variate tools.\n",
    "- cluster analysis\n",
    "- classification methods\n",
    "- multi-variate regression"
   ]
  },
  {
   "cell_type": "markdown",
   "id": "589ea3d9-cc0d-4921-892f-eee32df4c772",
   "metadata": {},
   "source": [
    "In hydrology spatial analysis is important. We need tools for spatial analysis.\n",
    "- inverse distance methods\n",
    "- kriging\n",
    "- minimum curvature"
   ]
  },
  {
   "cell_type": "markdown",
   "id": "f3b972fb-11b4-414d-a122-b2ca878763d4",
   "metadata": {},
   "source": [
    "This finally leads to some new methods of machine learning.\n",
    "- random forest\n",
    "- support vector machines\n",
    "- neural networks\n",
    "- deep learning"
   ]
  },
  {
   "cell_type": "markdown",
   "id": "d7030bac-1a7a-48c9-898a-1f33bd7e061d",
   "metadata": {},
   "source": [
    "## Tools"
   ]
  },
  {
   "cell_type": "markdown",
   "id": "6cb75e0a-3546-4e9d-8689-2b4fd22dbefa",
   "metadata": {},
   "source": [
    "We will use modern tools such as Matlab/Octave, R and Python to solve mathematical problems.\n",
    "- R\n",
    "- Python\n",
    "- Matlab/Octave\n",
    "- Sage"
   ]
  },
  {
   "cell_type": "markdown",
   "id": "2f7dd391-4bc7-4578-89ca-4a7e6280089f",
   "metadata": {},
   "source": [
    "Links to resources for hydrology, mathematics and python.\n",
    "\n",
    "- https://github.com/raoulcollenteur/Python-Hydrology-Tools\n",
    "- http://python.hydrology-amsterdam.nl\n",
    "- https://greenteapress.com/pythonhydro/pythonhydro.html\n",
    "- https://www.usgs.gov/software/python-hydrology-self-study-curriculum\n",
    "- https://github.com/DOI-USGS/python-for-hydrology\n",
    "- https://github.com/michamettler/zhaw-hm\n",
    "- https://patrickwalls.github.io/mathematicalpython/\n",
    "- https://gist.github.com/ai-ml-architect/41ee3fa7f9502e4c9df9bfeb1c164a0d\n",
    "\n"
   ]
  }
 ],
 "metadata": {
  "kernelspec": {
   "display_name": "Python 3 (ipykernel)",
   "language": "python",
   "name": "python3"
  },
  "language_info": {
   "codemirror_mode": {
    "name": "ipython",
    "version": 3
   },
   "file_extension": ".py",
   "mimetype": "text/x-python",
   "name": "python",
   "nbconvert_exporter": "python",
   "pygments_lexer": "ipython3",
   "version": "3.10.9"
  }
 },
 "nbformat": 4,
 "nbformat_minor": 5
}
